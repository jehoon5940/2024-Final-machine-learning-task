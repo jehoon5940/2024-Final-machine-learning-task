import tensorflow as tf
from tensorflow.keras.models import Sequential
from tensorflow.keras.layers import Conv2D, MaxPooling2D, Flatten, Dense, Dropout, BatchNormalization
from tensorflow.keras.datasets import mnist
from tensorflow.keras.utils import to_categorical
from tensorflow.keras.preprocessing.image import ImageDataGenerator
from tensorflow.keras.callbacks import ReduceLROnPlateau, EarlyStopping

# 자동 혼합 정밀도 (최신 GPU에서만 가능)
from tensorflow.keras import mixed_precision
mixed_precision.set_global_policy('mixed_float16')

# 데이터 로드 및 전처리
(x_train, y_train), (x_test, y_test) = mnist.load_data()
x_train = x_train.reshape(-1, 28, 28, 1).astype('float32') / 255
x_test = x_test.reshape(-1, 28, 28, 1).astype('float32') / 255
y_train = to_categorical(y_train, 10)
y_test = to_categorical(y_test, 10)

# 데이터 증강 적용
datagen = ImageDataGenerator(
    rotation_range=10,
    width_shift_range=0.1,
    height_shift_range=0.1,
    zoom_range=0.1
)
datagen.fit(x_train)

# CNN 모델 (최적화)
model = Sequential([
    Conv2D(128, (3, 3), activation='relu', input_shape=(28, 28, 1), kernel_initializer='he_uniform'),
    BatchNormalization(),
    Conv2D(128, (3, 3), activation='relu', kernel_initializer='he_uniform', padding='same'),
    BatchNormalization(),
    MaxPooling2D((2, 2)),
    Dropout(0.3),

    Conv2D(256, (3, 3), activation='relu', kernel_initializer='he_uniform', padding='same'),
    BatchNormalization(),
    Conv2D(256, (3, 3), activation='relu', kernel_initializer='he_uniform', padding='same'),
    BatchNormalization(),
    MaxPooling2D((2, 2)),
    Dropout(0.4),

    Flatten(),
    Dense(512, activation='relu', kernel_initializer='he_uniform'),
    BatchNormalization(),
    Dropout(0.5),

    Dense(256, activation='relu', kernel_initializer='he_uniform'),
    Dropout(0.3),

    Dense(10, activation='softmax', dtype='float32')  # mixed precision 적용
])

# 콜백 설정 (빠른 종료)
lr_reduction = ReduceLROnPlateau(monitor='val_loss', patience=2, factor=0.5, min_lr=1e-6)
early_stopping = EarlyStopping(monitor='val_loss', patience=5, restore_best_weights=True)  # patience 줄이기

# 모델 컴파일
model.compile(optimizer=tf.keras.optimizers.Adam(learning_rate=0.0001),  # 학습률 조정
              loss='categorical_crossentropy',
              metrics=['accuracy'])

# 모델 훈련 (배치 크기 증가 + steps_per_epoch 추가)
history = model.fit(datagen.flow(x_train, y_train, batch_size=128),  # 64 → 128
                    validation_data=(x_test, y_test),
                    epochs=50,  # 100 → 50
                    steps_per_epoch=len(x_train) // 128,  # 추가
                    callbacks=[lr_reduction, early_stopping])

# 모델 평가
loss, accuracy = model.evaluate(x_test, y_test)
print(f'Test Accuracy: {accuracy * 100:.2f}%')
